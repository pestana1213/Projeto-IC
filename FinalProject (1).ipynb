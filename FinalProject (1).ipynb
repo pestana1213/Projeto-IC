{
 "cells": [
  {
   "cell_type": "markdown",
   "id": "3ee32bf2-37a9-4ea0-988f-8fa493de919e",
   "metadata": {},
   "source": [
    "# Final project\n",
    "\n",
    "João Nogueira A87973\n",
    "\n",
    "Miguel Gonçalves A90416\n"
   ]
  },
  {
   "cell_type": "markdown",
   "id": "40484524-4d14-47c9-b33c-c620e8ce5fc4",
   "metadata": {},
   "source": [
    "## Desenvolver uma expressão 3-Sat\n"
   ]
  },
  {
   "cell_type": "code",
   "execution_count": 2,
   "id": "4e8a8f80-297f-46f4-91b7-22f90e6cc690",
   "metadata": {},
   "outputs": [],
   "source": [
    "import numpy as np\n",
    "from qiskit import Aer\n",
    "from qiskit.visualization import plot_histogram\n",
    "from qiskit.utils import QuantumInstance\n",
    "from qiskit.algorithms import Grover, AmplificationProblem\n",
    "from qiskit.circuit.library import PhaseOracle\n",
    "from math import sqrt, ceil, floor, pi"
   ]
  },
  {
   "cell_type": "code",
   "execution_count": 3,
   "id": "867f3cc3-fcb9-41c7-984d-7942fbf19443",
   "metadata": {},
   "outputs": [
    {
     "name": "stdout",
     "output_type": "stream",
     "text": [
      "c example DIMACS-CNF 3-SAT\n",
      "p cnf 3 5\n",
      "-1 -2 -3 0\n",
      "1 -2 3 0\n",
      "1 2 -3 0\n",
      "1 -2 -3 0\n",
      "-1 2 3 0\n"
     ]
    }
   ],
   "source": [
    "#Expressao 3-Sat\n",
    "satProblem = \"3sat.dinamics\"\n",
    "with open(satProblem, 'r') as f:\n",
    "    sat_cnf = f.read()\n",
    "print(sat_cnf)"
   ]
  },
  {
   "cell_type": "markdown",
   "id": "0982fab7-3804-4207-97f1-2aae4d49480d",
   "metadata": {},
   "source": [
    "O ficheiro anteriormente apresentado representa o seguinte fórmula 3SAT: \n",
    "\n",
    "$f(v_1,v_2,v_3) = (\\neg v_1 \\lor \\neg v_2 \\lor \\neg v_3) \\land (v_1 \\lor \\neg v_2 \\lor v_3) \\land (v_1 \\lor v_2 \\lor \\neg v_3) \\land (v_1 \\lor \\neg v_2 \\lor \\neg v_3) \\land (\\neg v_1 \\lor v_2 \\lor v_3) $\n",
    "\n",
    "Vamos entao usar o PhaseOracle para criar um circuito a partir do ficheiro: "
   ]
  },
  {
   "cell_type": "code",
   "execution_count": 4,
   "id": "2d2ffeb0-6bbf-4a34-a906-ad09d85e6468",
   "metadata": {},
   "outputs": [
    {
     "data": {
      "image/png": "[encoded data removed]",
      "text/plain": [
       "<Figure size 387.597x204.68 with 1 Axes>"
      ]
     },
     "execution_count": 4,
     "metadata": {},
     "output_type": "execute_result"
    }
   ],
   "source": [
    "sat_oracle = PhaseOracle.from_dimacs_file(\"3sat.dinamics\")\n",
    "sat_oracle.draw()"
   ]
  },
  {
   "cell_type": "code",
   "execution_count": 5,
   "id": "1d300ff0-5f5d-48c7-9f4b-3a8a5dba2b47",
   "metadata": {},
   "outputs": [],
   "source": [
    "def diffusion_operator(qr):\n",
    "    qc = QuantumCircuit(qr)\n",
    "    \n",
    "    # Apply transformation |s> -> |00..0> (H-gates)\n",
    "    qc.h(qr)\n",
    "    \n",
    "    # Apply transformation |00..0> -> |11..1> (X-gates)\n",
    "    qc.x(qr)\n",
    "\n",
    "    \n",
    "    # Do multi-controlled-Z gate\n",
    "    qc.h(qr[-1])\n",
    "    qc.mct(qr[:-1], qr[-1])  # multi-controlled-toffoli\n",
    "    qc.h(qr[-1])\n",
    "    \n",
    "    # Apply transformation |11..1> -> |00..0>\n",
    "\n",
    "    qc.x(qr)\n",
    "    \n",
    "    # Apply transformation |00..0> -> |s>\n",
    "\n",
    "    qc.h(qr)\n",
    "\n",
    "    return qc"
   ]
  },
  {
   "cell_type": "code",
   "execution_count": 23,
   "id": "73301b11-63e1-4e0e-aaa6-d9f6f73cd1be",
   "metadata": {},
   "outputs": [],
   "source": [
    "from math import sqrt, ceil, floor, pi\n",
    "from qiskit import QuantumCircuit, ClassicalRegister, QuantumRegister, Aer, execute\n",
    "\n",
    "#Soluções possiveis\n",
    "possiveis = ['001','010','100','110','011','101','111','000']\n",
    "\n",
    "    \n",
    "def count_solutions(oracle_circ):\n",
    "    #Conta o numero de soluçoes que satisfazem\n",
    "    k = 0\n",
    "    for bstr in possiveis:\n",
    "        if sat_oracle.evaluate_bitstring(bstr[::-1]):\n",
    "            k += 1\n",
    "\n",
    "    return k\n",
    "\n",
    "def alg_Groveer(oracle_circ, iterations = 2):\n",
    "    nqubits = oracle_circ.num_qubits\n",
    "\n",
    "    qr = QuantumRegister(nqubits, 'q')\n",
    "    cr = ClassicalRegister(nqubits, 'c')\n",
    "\n",
    "    qc = QuantumCircuit(qr, cr)\n",
    "\n",
    "    qc.h(qr)\n",
    "\n",
    "    k = count_solutions(oracle_circ)\n",
    "    N = 2**nqubits\n",
    "\n",
    "    sqrtN = floor(sqrt(N/k))\n",
    "\n",
    "    iterations=sqrtN\n",
    "    for j in range(iterations):\n",
    "        qc = qc.compose(oracle_circ)\n",
    "        qc.barrier()\n",
    "        qc = qc.compose(diffusion_operator(qr))\n",
    "\n",
    "    qc.measure(qr, cr)\n",
    "    return qc"
   ]
  },
  {
   "cell_type": "code",
   "execution_count": 24,
   "id": "5965943e-8e0a-4fa6-882d-f3cdd3f55afa",
   "metadata": {},
   "outputs": [
    {
     "data": {
      "image/png": "[encoded data removed]",
      "text/plain": [
       "<Figure size 1110x264.88 with 1 Axes>"
      ]
     },
     "execution_count": 24,
     "metadata": {},
     "output_type": "execute_result"
    }
   ],
   "source": [
    "qc = alg_Groveer(sat_oracle)\n",
    "qc.draw(output=\"mpl\")"
   ]
  },
  {
   "cell_type": "markdown",
   "id": "2ccc9b7e-e5a4-412f-a098-e8c5cf95f512",
   "metadata": {},
   "source": [
    "Para simular e obter os resultados em gráfico fizemos a seguinte função: "
   ]
  },
  {
   "cell_type": "code",
   "execution_count": 25,
   "id": "d471dc11-605a-4203-9283-a822295ad9c0",
   "metadata": {},
   "outputs": [],
   "source": [
    "from qiskit.compiler import transpile\n",
    "\n",
    "def execute_circuit_2(qc, shots=1024, decimal=False):\n",
    "    #define backend\n",
    "    device = Aer.get_backend('qasm_simulator')\n",
    "\n",
    "    #get counts\n",
    "    qc_transpiled = transpile(qc, backend=device)\n",
    "    counts = device.run(qc_transpiled, shots=shots).result().get_counts()\n",
    "\n",
    "    if decimal:\n",
    "        counts = dict((int(a[::-1],2),b) for (a,b) in counts.items())\n",
    "    else:\n",
    "        counts = dict((a[::-1],b) for (a,b) in counts.items())\n",
    "\n",
    "    return counts"
   ]
  },
  {
   "cell_type": "code",
   "execution_count": 31,
   "id": "0df02450-d70a-4530-92c1-b8fee033c214",
   "metadata": {},
   "outputs": [
    {
     "data": {
      "image/png": "[encoded data removed]",
      "text/plain": [
       "<Figure size 504x360 with 1 Axes>"
      ]
     },
     "execution_count": 31,
     "metadata": {},
     "output_type": "execute_result"
    }
   ],
   "source": [
    "counts = execute_circuit_2(qc, shots = 4096)\n",
    "plot_histogram(counts)"
   ]
  },
  {
   "cell_type": "code",
   "execution_count": 28,
   "id": "b0583c3e-b1e3-4cfe-b28e-4fce43c63dff",
   "metadata": {},
   "outputs": [
    {
     "data": {
      "text/plain": [
       "3"
      ]
     },
     "execution_count": 28,
     "metadata": {},
     "output_type": "execute_result"
    }
   ],
   "source": [
    "count_solutions(sat_oracle)"
   ]
  },
  {
   "cell_type": "markdown",
   "id": "cf5c3c5b-8654-45cd-a370-f9888d5553d3",
   "metadata": {},
   "source": [
    "Pela análise do gráfico, as soluções mais prováveis são 000, 101 e 110, as quais estão claramente corretas.\n",
    "\n",
    "Assim, o nosso algoritmo de Groover consegue encontrar soluções fiáveis para expressões 3-Sat."
   ]
  },
  {
   "cell_type": "markdown",
   "id": "0d537085-a534-4fc5-a721-28c08e53553b",
   "metadata": {},
   "source": [
    "# Analise da complexidade: \n",
    "\n",
    "## Computação clássica\n",
    "\n",
    "1. Caso médio\n",
    "\n",
    "    Dadas N soluções possíveis para o nosso 3SAT problema, em média iria ter de se verificar N/2 dessas soluções\n",
    "    Ou seja, $\\mathcal{O}(N)$\n",
    "\n",
    "2. Pior caso\n",
    "\n",
    "    No piro caso iria ter de se verificar todas as soluções possiveis, neste caso N\n",
    "    \n",
    "## Computação quântica\n",
    "\n",
    "Num computador quântico conseguimos encontrar a solução em $\\sqrt{N/K}$ passos com o algoritmo de Groover.\n",
    "\n",
    "Este algoritmo não usa listas, o que o torna um algoritmo genérico. Deste modo ele devolve imediatamente uma melhoria quadrática para tantos problemas clássicos.\n",
    "\n",
    "Assim, $\\mathcal{O}(\\sqrt{N/K})$\n",
    "\n",
    "\n",
    "## Conclusões \n",
    "\n",
    "É claro que uma melhoria quadrática no tempo em que se encontra uma solução é bastante considerável.\n",
    "\n",
    "\n"
   ]
  }
 ],
 "metadata": {
  "kernelspec": {
   "display_name": "Python 3 (ipykernel)",
   "language": "python",
   "name": "python3"
  },
  "language_info": {
   "codemirror_mode": {
    "name": "ipython",
    "version": 3
   },
   "file_extension": ".py",
   "mimetype": "text/x-python",
   "name": "python",
   "nbconvert_exporter": "python",
   "pygments_lexer": "ipython3",
   "version": "3.8.13"
  },
  "widgets": {
   "application/vnd.jupyter.widget-state+json": {
    "state": {},
    "version_major": 2,
    "version_minor": 0
   }
  }
 },
 "nbformat": 4,
 "nbformat_minor": 5
}
